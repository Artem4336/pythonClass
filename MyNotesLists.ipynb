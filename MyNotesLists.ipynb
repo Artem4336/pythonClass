{
  "cells": [
    {
      "cell_type": "markdown",
      "metadata": {
        "id": "view-in-github",
        "colab_type": "text"
      },
      "source": [
        "<a href=\"https://colab.research.google.com/github/Artem4336/pythonClass/blob/main/MyNotes.ipynb\" target=\"_parent\"><img src=\"https://colab.research.google.com/assets/colab-badge.svg\" alt=\"Open In Colab\"/></a>"
      ]
    },
    {
      "cell_type": "code",
      "source": [
        "list = [3, 4, 5, 6, 7]\n",
        "\n",
        "print([item*7 for item in list])"
      ],
      "metadata": {
        "colab": {
          "base_uri": "https://localhost:8080/"
        },
        "id": "RvLNUXuwDjcn",
        "outputId": "17b3cca2-4393-451f-aea1-526a150f714b"
      },
      "execution_count": 16,
      "outputs": [
        {
          "output_type": "stream",
          "name": "stdout",
          "text": [
            "[21, 28, 35, 42, 49]\n"
          ]
        }
      ]
    },
    {
      "cell_type": "code",
      "source": [
        "list = [1, 2, 3 , 4, 5, 6, 7, 8]\n",
        "\n",
        "print(list[::6])"
      ],
      "metadata": {
        "colab": {
          "base_uri": "https://localhost:8080/"
        },
        "id": "0FPM4BcYGclx",
        "outputId": "85d73e02-1630-4429-ce9d-561d5821823e"
      },
      "execution_count": 26,
      "outputs": [
        {
          "output_type": "stream",
          "name": "stdout",
          "text": [
            "[1, 7]\n"
          ]
        }
      ]
    },
    {
      "cell_type": "code",
      "source": [
        "list = [\"cherry\", \"apple\", \"orange\", \"kiwi\" ]\n",
        "\n",
        "list[2:4] = [\"mango\", \"watermelon\"]\n",
        "\n",
        "print(list)"
      ],
      "metadata": {
        "colab": {
          "base_uri": "https://localhost:8080/"
        },
        "id": "hHnl-YKzJKO7",
        "outputId": "aca2eb25-854f-4781-a120-9d73221df297"
      },
      "execution_count": 35,
      "outputs": [
        {
          "output_type": "stream",
          "name": "stdout",
          "text": [
            "['cherry', 'apple', 'mango', 'watermelon']\n"
          ]
        }
      ]
    },
    {
      "cell_type": "code",
      "source": [
        "list = [\"apple\", \"banana\", \"cherry\", \"orange\", \"kiwi\", \"melon\", \"mango\"]\n",
        "\n",
        "print(list[:5])"
      ],
      "metadata": {
        "colab": {
          "base_uri": "https://localhost:8080/"
        },
        "id": "UcqDA7yMJtxv",
        "outputId": "f53bfb57-7571-4e0b-b31e-912fed84847c"
      },
      "execution_count": 31,
      "outputs": [
        {
          "output_type": "stream",
          "name": "stdout",
          "text": [
            "['apple', 'banana', 'cherry', 'orange', 'kiwi']\n"
          ]
        }
      ]
    },
    {
      "cell_type": "code",
      "source": [
        "list = [\"apple\", \"orange\", \"mellon\", \"mango\", \"kiwi\"]\n",
        "\n",
        "list.remove(\"orange\")\n",
        "\n",
        "print(list)"
      ],
      "metadata": {
        "colab": {
          "base_uri": "https://localhost:8080/"
        },
        "id": "mfFBGR-cQJLY",
        "outputId": "8590a522-d55b-4c83-fc93-886e7378be9a"
      },
      "execution_count": 39,
      "outputs": [
        {
          "output_type": "stream",
          "name": "stdout",
          "text": [
            "['apple', 'mellon', 'mango', 'kiwi']\n"
          ]
        }
      ]
    },
    {
      "cell_type": "code",
      "source": [
        "list = [\"apple\", \"banana\", \"cherry\", \"orange\", \"kiwi\", \"melon\", \"mango\"]\n",
        "\n",
        "list.insert(2, \"watermelon\")\n",
        "\n",
        "print(list)"
      ],
      "metadata": {
        "colab": {
          "base_uri": "https://localhost:8080/"
        },
        "id": "TNWiN_r-KBzf",
        "outputId": "66445d6b-2605-4fa8-c0f1-5f45ec5619d7"
      },
      "execution_count": 37,
      "outputs": [
        {
          "output_type": "stream",
          "name": "stdout",
          "text": [
            "['apple', 'banana', 'watermelon', 'cherry', 'orange', 'kiwi', 'melon', 'mango']\n"
          ]
        }
      ]
    },
    {
      "cell_type": "code",
      "source": [
        "list = [\"cherry\", \"apple\", \"orange\", \"kiwi\"]\n",
        "\n",
        "list.append(\"mango\")\n",
        "\n",
        "print(list)"
      ],
      "metadata": {
        "colab": {
          "base_uri": "https://localhost:8080/"
        },
        "id": "QnExU59sLPOS",
        "outputId": "67ff4cd1-c4f7-4c22-f941-5909f6769799"
      },
      "execution_count": 38,
      "outputs": [
        {
          "output_type": "stream",
          "name": "stdout",
          "text": [
            "['cherry', 'apple', 'orange', 'kiwi', 'mango']\n"
          ]
        }
      ]
    }
  ],
  "metadata": {
    "colab": {
      "name": "Welcome To Colaboratory",
      "toc_visible": true,
      "provenance": [],
      "include_colab_link": true
    },
    "kernelspec": {
      "display_name": "Python 3",
      "name": "python3"
    }
  },
  "nbformat": 4,
  "nbformat_minor": 0
}
