{
  "cells": [
    {
      "cell_type": "markdown",
      "metadata": {
        "id": "view-in-github",
        "colab_type": "text"
      },
      "source": [
        "<a href=\"https://colab.research.google.com/github/Artem4336/pythonClass/blob/main/MyNotesStrings.ipynb\" target=\"_parent\"><img src=\"https://colab.research.google.com/assets/colab-badge.svg\" alt=\"Open In Colab\"/></a>"
      ]
    },
    {
      "cell_type": "code",
      "source": [
        "a = (\"hello world\")\n",
        "\n",
        "print(len(a))"
      ],
      "metadata": {
        "id": "qrZdLYc3ilFV",
        "outputId": "7bce19a0-b3da-4cd6-c700-a158adcd4f31",
        "colab": {
          "base_uri": "https://localhost:8080/"
        }
      },
      "execution_count": 1,
      "outputs": [
        {
          "output_type": "stream",
          "name": "stdout",
          "text": [
            "11\n"
          ]
        }
      ]
    },
    {
      "cell_type": "code",
      "source": [
        "for x in (\"banana\"):\n",
        "\n",
        "  print(x)"
      ],
      "metadata": {
        "id": "o71nlHL9izq_",
        "outputId": "39610fde-19a4-4ca5-f0e5-959a0afc47c8",
        "colab": {
          "base_uri": "https://localhost:8080/"
        }
      },
      "execution_count": 4,
      "outputs": [
        {
          "output_type": "stream",
          "name": "stdout",
          "text": [
            "b\n",
            "a\n",
            "n\n",
            "a\n",
            "n\n",
            "a\n"
          ]
        }
      ]
    },
    {
      "cell_type": "code",
      "source": [
        "txt = (\"The best things in life is free\")\n",
        "\n",
        "print(\"free\" in txt)"
      ],
      "metadata": {
        "id": "G5KRJV7ljEqa",
        "outputId": "70bc9f96-bd7a-4f94-e463-c7b7b3131a46",
        "colab": {
          "base_uri": "https://localhost:8080/"
        }
      },
      "execution_count": 7,
      "outputs": [
        {
          "output_type": "stream",
          "name": "stdout",
          "text": [
            "True\n"
          ]
        }
      ]
    },
    {
      "cell_type": "code",
      "source": [
        "txt = (\"The best things in life are free!\")\n",
        "if \"free\" in txt:\n",
        "  print(\"Yes, free is a present \")\n",
        "if \"free\" not in txt:\n",
        "  print(\"ERROR\")\n",
        "\n"
      ],
      "metadata": {
        "id": "KyMXpQjMj03t",
        "outputId": "e9650496-c1bf-49a2-dbd0-30961c154862",
        "colab": {
          "base_uri": "https://localhost:8080/"
        }
      },
      "execution_count": 13,
      "outputs": [
        {
          "output_type": "stream",
          "name": "stdout",
          "text": [
            "Yes, free is a present \n"
          ]
        }
      ]
    },
    {
      "cell_type": "code",
      "source": [
        "txt = \"The best things in life are free!\"\n",
        "print(\"expensive\" not in txt)"
      ],
      "metadata": {
        "id": "ekEtVe8Qkr_P",
        "outputId": "3a2b8da4-16ee-42b5-ae29-27a93aebca75",
        "colab": {
          "base_uri": "https://localhost:8080/"
        }
      },
      "execution_count": 16,
      "outputs": [
        {
          "output_type": "stream",
          "name": "stdout",
          "text": [
            "True\n"
          ]
        }
      ]
    },
    {
      "cell_type": "code",
      "source": [
        "txt = \"The best things in life are free!\"\n",
        "if (\"expensive\") not in txt:\n",
        "  print(\"ERROR\")"
      ],
      "metadata": {
        "id": "IhzG-LjRlS3l",
        "outputId": "1a8e7bdc-c1b4-446e-f329-b6dc6d4eacf9",
        "colab": {
          "base_uri": "https://localhost:8080/"
        }
      },
      "execution_count": 17,
      "outputs": [
        {
          "output_type": "stream",
          "name": "stdout",
          "text": [
            "ERROR\n"
          ]
        }
      ]
    },
    {
      "cell_type": "code",
      "source": [
        "b = (\"hello world\")\n",
        "print(b[2:5])\n",
        "\n",
        "###\n",
        "\n",
        "b = (\"hello world\")\n",
        "print(b[:5])"
      ],
      "metadata": {
        "id": "7AEH_B4tmMYh",
        "outputId": "807a9312-97bd-481c-c93f-4f8509786320",
        "colab": {
          "base_uri": "https://localhost:8080/"
        }
      },
      "execution_count": 19,
      "outputs": [
        {
          "output_type": "stream",
          "name": "stdout",
          "text": [
            "llo\n",
            "hello\n"
          ]
        }
      ]
    },
    {
      "cell_type": "code",
      "source": [
        "b = \"Hello, World!\"\n",
        "print(b[2:])"
      ],
      "metadata": {
        "id": "0JY7gNqEmj_4",
        "outputId": "6ecffc47-56d5-4cdb-eeb4-bc1e4a769a8c",
        "colab": {
          "base_uri": "https://localhost:8080/"
        }
      },
      "execution_count": 20,
      "outputs": [
        {
          "output_type": "stream",
          "name": "stdout",
          "text": [
            "llo, World!\n"
          ]
        }
      ]
    }
  ],
  "metadata": {
    "colab": {
      "name": "Welcome To Colaboratory",
      "toc_visible": true,
      "provenance": [],
      "include_colab_link": true
    },
    "kernelspec": {
      "display_name": "Python 3",
      "name": "python3"
    }
  },
  "nbformat": 4,
  "nbformat_minor": 0
}