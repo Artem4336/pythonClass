{
  "cells": [
    {
      "cell_type": "markdown",
      "metadata": {
        "id": "view-in-github",
        "colab_type": "text"
      },
      "source": [
        "<a href=\"https://colab.research.google.com/github/Artem4336/pythonClass/blob/main/homeworkPythonClass.ipynb\" target=\"_parent\"><img src=\"https://colab.research.google.com/assets/colab-badge.svg\" alt=\"Open In Colab\"/></a>"
      ]
    },
    {
      "cell_type": "code",
      "source": [
        "#count method of a string\n",
        "\n",
        "#example:\n",
        "\n",
        "txt = (\"i love playing basketball, its my favorite sport, also i love my mom\")\n",
        "\n",
        "z = txt.count(\"basketball\")\n",
        "\n",
        "print(z)\n",
        "\n",
        "#another example:\n",
        "\n",
        "z = txt.count(\"love\")\n",
        "\n",
        "print(z)"
      ],
      "metadata": {
        "colab": {
          "base_uri": "https://localhost:8080/"
        },
        "id": "75AGdwNzIrhT",
        "outputId": "3cc9645b-a034-4394-cd85-9f5f584b27db"
      },
      "execution_count": 3,
      "outputs": [
        {
          "output_type": "stream",
          "name": "stdout",
          "text": [
            "1\n",
            "2\n"
          ]
        }
      ]
    },
    {
      "cell_type": "code",
      "source": [
        "#split method of a string(turns a string into a list)\n",
        "\n",
        "#example:\n",
        "\n",
        "txt = (\"my house is really big\")\n",
        "\n",
        "x = txt.split()\n",
        "\n",
        "print(x)"
      ],
      "metadata": {
        "colab": {
          "base_uri": "https://localhost:8080/"
        },
        "id": "dey8qMcwKh9R",
        "outputId": "b51bc93a-f2c3-49b4-edb4-230343efe75c"
      },
      "execution_count": 4,
      "outputs": [
        {
          "output_type": "stream",
          "name": "stdout",
          "text": [
            "['my', 'house', 'is', 'really', 'big']\n"
          ]
        }
      ]
    }
  ],
  "metadata": {
    "colab": {
      "name": "Welcome To Colaboratory",
      "toc_visible": true,
      "provenance": [],
      "include_colab_link": true
    },
    "kernelspec": {
      "display_name": "Python 3",
      "name": "python3"
    }
  },
  "nbformat": 4,
  "nbformat_minor": 0
}